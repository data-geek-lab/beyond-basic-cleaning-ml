{
 "cells": [
  {
   "cell_type": "markdown",
   "id": "923a6b88",
   "metadata": {},
   "source": [
    "# Beyond Basic Cleaning: Preparing Data for ML\n",
    "\n",
    "*Step-by-step notebook to accompany the YouTube video.*"
   ]
  },
  {
   "cell_type": "markdown",
   "id": "80b68745",
   "metadata": {},
   "source": [
    "## 1) Load the dataset\n",
    "We'll start with a deliberately **messy** dataset that contains missing values, outliers, and inconsistent date formats."
   ]
  },
  {
   "cell_type": "code",
   "execution_count": 3,
   "id": "42511183",
   "metadata": {},
   "outputs": [
    {
     "data": {
      "text/html": [
       "<div>\n",
       "<style scoped>\n",
       "    .dataframe tbody tr th:only-of-type {\n",
       "        vertical-align: middle;\n",
       "    }\n",
       "\n",
       "    .dataframe tbody tr th {\n",
       "        vertical-align: top;\n",
       "    }\n",
       "\n",
       "    .dataframe thead th {\n",
       "        text-align: right;\n",
       "    }\n",
       "</style>\n",
       "<table border=\"1\" class=\"dataframe\">\n",
       "  <thead>\n",
       "    <tr style=\"text-align: right;\">\n",
       "      <th></th>\n",
       "      <th>id</th>\n",
       "      <th>event_date</th>\n",
       "      <th>age</th>\n",
       "      <th>income</th>\n",
       "      <th>gender</th>\n",
       "      <th>region</th>\n",
       "      <th>purchases</th>\n",
       "      <th>category</th>\n",
       "      <th>churn</th>\n",
       "    </tr>\n",
       "  </thead>\n",
       "  <tbody>\n",
       "    <tr>\n",
       "      <th>0</th>\n",
       "      <td>1</td>\n",
       "      <td>2023-04-13</td>\n",
       "      <td>34.0</td>\n",
       "      <td>NaN</td>\n",
       "      <td>Female</td>\n",
       "      <td>East</td>\n",
       "      <td>2.0</td>\n",
       "      <td>D</td>\n",
       "      <td>0</td>\n",
       "    </tr>\n",
       "    <tr>\n",
       "      <th>1</th>\n",
       "      <td>2</td>\n",
       "      <td>2023-12-15</td>\n",
       "      <td>40.0</td>\n",
       "      <td>54770.0</td>\n",
       "      <td>Male</td>\n",
       "      <td>East</td>\n",
       "      <td>2.0</td>\n",
       "      <td>NaN</td>\n",
       "      <td>1</td>\n",
       "    </tr>\n",
       "    <tr>\n",
       "      <th>2</th>\n",
       "      <td>3</td>\n",
       "      <td>2023-09-28</td>\n",
       "      <td>NaN</td>\n",
       "      <td>85399.0</td>\n",
       "      <td>Female</td>\n",
       "      <td>East</td>\n",
       "      <td>2.0</td>\n",
       "      <td>B</td>\n",
       "      <td>0</td>\n",
       "    </tr>\n",
       "    <tr>\n",
       "      <th>3</th>\n",
       "      <td>4</td>\n",
       "      <td>2023-04-17</td>\n",
       "      <td>44.0</td>\n",
       "      <td>52703.0</td>\n",
       "      <td>Male</td>\n",
       "      <td>NaN</td>\n",
       "      <td>NaN</td>\n",
       "      <td>B</td>\n",
       "      <td>1</td>\n",
       "    </tr>\n",
       "    <tr>\n",
       "      <th>4</th>\n",
       "      <td>5</td>\n",
       "      <td>2023-03-13</td>\n",
       "      <td>NaN</td>\n",
       "      <td>53504.0</td>\n",
       "      <td>NaN</td>\n",
       "      <td>North</td>\n",
       "      <td>7.0</td>\n",
       "      <td>B</td>\n",
       "      <td>0</td>\n",
       "    </tr>\n",
       "  </tbody>\n",
       "</table>\n",
       "</div>"
      ],
      "text/plain": [
       "   id  event_date   age   income  gender region  purchases category  churn\n",
       "0   1  2023-04-13  34.0      NaN  Female   East        2.0        D      0\n",
       "1   2  2023-12-15  40.0  54770.0    Male   East        2.0      NaN      1\n",
       "2   3  2023-09-28   NaN  85399.0  Female   East        2.0        B      0\n",
       "3   4  2023-04-17  44.0  52703.0    Male    NaN        NaN        B      1\n",
       "4   5  2023-03-13   NaN  53504.0     NaN  North        7.0        B      0"
      ]
     },
     "execution_count": 3,
     "metadata": {},
     "output_type": "execute_result"
    }
   ],
   "source": [
    "import pandas as pd\n",
    "import numpy as np\n",
    "\n",
    "import warnings\n",
    "warnings.filterwarnings(\"ignore\")\n",
    "\n",
    "df = pd.read_csv('ml_prep_demo_raw.csv')\n",
    "df.head()"
   ]
  },
  {
   "cell_type": "markdown",
   "id": "e287bb79",
   "metadata": {},
   "source": [
    "## 2) Quick EDA & data types\n",
    "Check shape, nulls, and dtypes to see what we’re dealing with."
   ]
  },
  {
   "cell_type": "code",
   "execution_count": 5,
   "id": "e80e3448",
   "metadata": {
    "scrolled": true
   },
   "outputs": [
    {
     "name": "stdout",
     "output_type": "stream",
     "text": [
      "(1500, 9)\n",
      "<class 'pandas.core.frame.DataFrame'>\n",
      "RangeIndex: 1500 entries, 0 to 1499\n",
      "Data columns (total 9 columns):\n",
      " #   Column      Non-Null Count  Dtype  \n",
      "---  ------      --------------  -----  \n",
      " 0   id          1500 non-null   int64  \n",
      " 1   event_date  1500 non-null   object \n",
      " 2   age         1405 non-null   float64\n",
      " 3   income      1396 non-null   float64\n",
      " 4   gender      1379 non-null   object \n",
      " 5   region      1414 non-null   object \n",
      " 6   purchases   1397 non-null   float64\n",
      " 7   category    1396 non-null   object \n",
      " 8   churn       1500 non-null   int64  \n",
      "dtypes: float64(3), int64(2), object(4)\n",
      "memory usage: 105.6+ KB\n"
     ]
    },
    {
     "data": {
      "text/plain": [
       "gender        0.080667\n",
       "income        0.069333\n",
       "category      0.069333\n",
       "purchases     0.068667\n",
       "age           0.063333\n",
       "region        0.057333\n",
       "id            0.000000\n",
       "event_date    0.000000\n",
       "churn         0.000000\n",
       "dtype: float64"
      ]
     },
     "execution_count": 5,
     "metadata": {},
     "output_type": "execute_result"
    }
   ],
   "source": [
    "print(df.shape)\n",
    "df.info()\n",
    "df.isna().mean().sort_values(ascending=False)"
   ]
  },
  {
   "cell_type": "markdown",
   "id": "178cbf9f",
   "metadata": {},
   "source": [
    "## 3) Fix dates & basic schema\n",
    "The `event_date` has mixed formats. We'll coerce to datetime safely; invalid ones become `NaT`."
   ]
  },
  {
   "cell_type": "code",
   "execution_count": 16,
   "id": "2ce49450-a08a-4855-8b4f-bc2f58e87d20",
   "metadata": {},
   "outputs": [
    {
     "data": {
      "text/html": [
       "<div>\n",
       "<style scoped>\n",
       "    .dataframe tbody tr th:only-of-type {\n",
       "        vertical-align: middle;\n",
       "    }\n",
       "\n",
       "    .dataframe tbody tr th {\n",
       "        vertical-align: top;\n",
       "    }\n",
       "\n",
       "    .dataframe thead th {\n",
       "        text-align: right;\n",
       "    }\n",
       "</style>\n",
       "<table border=\"1\" class=\"dataframe\">\n",
       "  <thead>\n",
       "    <tr style=\"text-align: right;\">\n",
       "      <th></th>\n",
       "      <th>event_date</th>\n",
       "    </tr>\n",
       "  </thead>\n",
       "  <tbody>\n",
       "    <tr>\n",
       "      <th>0</th>\n",
       "      <td>2023-04-13</td>\n",
       "    </tr>\n",
       "    <tr>\n",
       "      <th>1</th>\n",
       "      <td>2023-12-15</td>\n",
       "    </tr>\n",
       "    <tr>\n",
       "      <th>2</th>\n",
       "      <td>2023-09-28</td>\n",
       "    </tr>\n",
       "    <tr>\n",
       "      <th>3</th>\n",
       "      <td>2023-04-17</td>\n",
       "    </tr>\n",
       "    <tr>\n",
       "      <th>4</th>\n",
       "      <td>2023-03-13</td>\n",
       "    </tr>\n",
       "  </tbody>\n",
       "</table>\n",
       "</div>"
      ],
      "text/plain": [
       "  event_date\n",
       "0 2023-04-13\n",
       "1 2023-12-15\n",
       "2 2023-09-28\n",
       "3 2023-04-17\n",
       "4 2023-03-13"
      ]
     },
     "execution_count": 16,
     "metadata": {},
     "output_type": "execute_result"
    }
   ],
   "source": [
    "df['event_date'] = pd.to_datetime(df['event_date'], errors='coerce')\n",
    "df[['event_date']].head()"
   ]
  },
  {
   "cell_type": "markdown",
   "id": "238ba42f-e372-4339-97bd-c02c737a74b2",
   "metadata": {
    "scrolled": true
   },
   "source": [
    "df['event_date'] = pd.to_datetime(df['event_date'], errors='coerce')\n",
    "df[['event_date']].head()"
   ]
  },
  {
   "cell_type": "markdown",
   "id": "f247457f",
   "metadata": {},
   "source": [
    "## 4) Feature engineering from dates\n",
    "Create features like `event_month`, `event_dayofweek`, and `recency_days` (relative to dataset max date)."
   ]
  },
  {
   "cell_type": "code",
   "execution_count": 18,
   "id": "81537c45",
   "metadata": {},
   "outputs": [
    {
     "data": {
      "text/html": [
       "<div>\n",
       "<style scoped>\n",
       "    .dataframe tbody tr th:only-of-type {\n",
       "        vertical-align: middle;\n",
       "    }\n",
       "\n",
       "    .dataframe tbody tr th {\n",
       "        vertical-align: top;\n",
       "    }\n",
       "\n",
       "    .dataframe thead th {\n",
       "        text-align: right;\n",
       "    }\n",
       "</style>\n",
       "<table border=\"1\" class=\"dataframe\">\n",
       "  <thead>\n",
       "    <tr style=\"text-align: right;\">\n",
       "      <th></th>\n",
       "      <th>event_date</th>\n",
       "      <th>event_month</th>\n",
       "      <th>event_dayofweek</th>\n",
       "      <th>recency_days</th>\n",
       "    </tr>\n",
       "  </thead>\n",
       "  <tbody>\n",
       "    <tr>\n",
       "      <th>0</th>\n",
       "      <td>2023-04-13</td>\n",
       "      <td>4.0</td>\n",
       "      <td>3.0</td>\n",
       "      <td>297.0</td>\n",
       "    </tr>\n",
       "    <tr>\n",
       "      <th>1</th>\n",
       "      <td>2023-12-15</td>\n",
       "      <td>12.0</td>\n",
       "      <td>4.0</td>\n",
       "      <td>51.0</td>\n",
       "    </tr>\n",
       "    <tr>\n",
       "      <th>2</th>\n",
       "      <td>2023-09-28</td>\n",
       "      <td>9.0</td>\n",
       "      <td>3.0</td>\n",
       "      <td>129.0</td>\n",
       "    </tr>\n",
       "    <tr>\n",
       "      <th>3</th>\n",
       "      <td>2023-04-17</td>\n",
       "      <td>4.0</td>\n",
       "      <td>0.0</td>\n",
       "      <td>293.0</td>\n",
       "    </tr>\n",
       "    <tr>\n",
       "      <th>4</th>\n",
       "      <td>2023-03-13</td>\n",
       "      <td>3.0</td>\n",
       "      <td>0.0</td>\n",
       "      <td>328.0</td>\n",
       "    </tr>\n",
       "  </tbody>\n",
       "</table>\n",
       "</div>"
      ],
      "text/plain": [
       "  event_date  event_month  event_dayofweek  recency_days\n",
       "0 2023-04-13          4.0              3.0         297.0\n",
       "1 2023-12-15         12.0              4.0          51.0\n",
       "2 2023-09-28          9.0              3.0         129.0\n",
       "3 2023-04-17          4.0              0.0         293.0\n",
       "4 2023-03-13          3.0              0.0         328.0"
      ]
     },
     "execution_count": 18,
     "metadata": {},
     "output_type": "execute_result"
    }
   ],
   "source": [
    "max_date = df['event_date'].max()\n",
    "df['event_month'] = df['event_date'].dt.month\n",
    "df['event_dayofweek'] = df['event_date'].dt.dayofweek\n",
    "df['recency_days'] = (max_date - df['event_date']).dt.days\n",
    "df[['event_date','event_month','event_dayofweek','recency_days']].head()"
   ]
  },
  {
   "cell_type": "markdown",
   "id": "1c7c11f8",
   "metadata": {},
   "source": [
    "## 5) Split features & target\n",
    "We'll predict `churn` as the target. Identify numeric vs categorical columns."
   ]
  },
  {
   "cell_type": "code",
   "execution_count": 20,
   "id": "77ef3744",
   "metadata": {},
   "outputs": [
    {
     "data": {
      "text/html": [
       "<div>\n",
       "<style scoped>\n",
       "    .dataframe tbody tr th:only-of-type {\n",
       "        vertical-align: middle;\n",
       "    }\n",
       "\n",
       "    .dataframe tbody tr th {\n",
       "        vertical-align: top;\n",
       "    }\n",
       "\n",
       "    .dataframe thead th {\n",
       "        text-align: right;\n",
       "    }\n",
       "</style>\n",
       "<table border=\"1\" class=\"dataframe\">\n",
       "  <thead>\n",
       "    <tr style=\"text-align: right;\">\n",
       "      <th></th>\n",
       "      <th>id</th>\n",
       "      <th>age</th>\n",
       "      <th>income</th>\n",
       "      <th>gender</th>\n",
       "      <th>region</th>\n",
       "      <th>purchases</th>\n",
       "      <th>category</th>\n",
       "      <th>event_month</th>\n",
       "      <th>event_dayofweek</th>\n",
       "      <th>recency_days</th>\n",
       "    </tr>\n",
       "  </thead>\n",
       "  <tbody>\n",
       "    <tr>\n",
       "      <th>0</th>\n",
       "      <td>1</td>\n",
       "      <td>34.0</td>\n",
       "      <td>NaN</td>\n",
       "      <td>Female</td>\n",
       "      <td>East</td>\n",
       "      <td>2.0</td>\n",
       "      <td>D</td>\n",
       "      <td>4.0</td>\n",
       "      <td>3.0</td>\n",
       "      <td>297.0</td>\n",
       "    </tr>\n",
       "    <tr>\n",
       "      <th>1</th>\n",
       "      <td>2</td>\n",
       "      <td>40.0</td>\n",
       "      <td>54770.0</td>\n",
       "      <td>Male</td>\n",
       "      <td>East</td>\n",
       "      <td>2.0</td>\n",
       "      <td>NaN</td>\n",
       "      <td>12.0</td>\n",
       "      <td>4.0</td>\n",
       "      <td>51.0</td>\n",
       "    </tr>\n",
       "    <tr>\n",
       "      <th>2</th>\n",
       "      <td>3</td>\n",
       "      <td>NaN</td>\n",
       "      <td>85399.0</td>\n",
       "      <td>Female</td>\n",
       "      <td>East</td>\n",
       "      <td>2.0</td>\n",
       "      <td>B</td>\n",
       "      <td>9.0</td>\n",
       "      <td>3.0</td>\n",
       "      <td>129.0</td>\n",
       "    </tr>\n",
       "    <tr>\n",
       "      <th>3</th>\n",
       "      <td>4</td>\n",
       "      <td>44.0</td>\n",
       "      <td>52703.0</td>\n",
       "      <td>Male</td>\n",
       "      <td>NaN</td>\n",
       "      <td>NaN</td>\n",
       "      <td>B</td>\n",
       "      <td>4.0</td>\n",
       "      <td>0.0</td>\n",
       "      <td>293.0</td>\n",
       "    </tr>\n",
       "    <tr>\n",
       "      <th>4</th>\n",
       "      <td>5</td>\n",
       "      <td>NaN</td>\n",
       "      <td>53504.0</td>\n",
       "      <td>NaN</td>\n",
       "      <td>North</td>\n",
       "      <td>7.0</td>\n",
       "      <td>B</td>\n",
       "      <td>3.0</td>\n",
       "      <td>0.0</td>\n",
       "      <td>328.0</td>\n",
       "    </tr>\n",
       "  </tbody>\n",
       "</table>\n",
       "</div>"
      ],
      "text/plain": [
       "   id   age   income  gender region  purchases category  event_month  \\\n",
       "0   1  34.0      NaN  Female   East        2.0        D          4.0   \n",
       "1   2  40.0  54770.0    Male   East        2.0      NaN         12.0   \n",
       "2   3   NaN  85399.0  Female   East        2.0        B          9.0   \n",
       "3   4  44.0  52703.0    Male    NaN        NaN        B          4.0   \n",
       "4   5   NaN  53504.0     NaN  North        7.0        B          3.0   \n",
       "\n",
       "   event_dayofweek  recency_days  \n",
       "0              3.0         297.0  \n",
       "1              4.0          51.0  \n",
       "2              3.0         129.0  \n",
       "3              0.0         293.0  \n",
       "4              0.0         328.0  "
      ]
     },
     "execution_count": 20,
     "metadata": {},
     "output_type": "execute_result"
    }
   ],
   "source": [
    "target = 'churn'\n",
    "feature_cols = [c for c in df.columns if c not in [target]]\n",
    "X = df[feature_cols].copy()\n",
    "y = df[target].copy()\n",
    "\n",
    "numeric_features = ['age','income','purchases','event_month','event_dayofweek','recency_days']\n",
    "categorical_features = ['gender','region','category']\n",
    "date_cols = ['event_date']  # will drop raw date after deriving features\n",
    "\n",
    "X = X.drop(columns=date_cols)\n",
    "X.head()"
   ]
  },
  {
   "cell_type": "markdown",
   "id": "beb1d4db",
   "metadata": {},
   "source": [
    "## 6) Outlier exploration (numeric)\n",
    "Use Z-score/IQR to **detect** outliers before deciding to cap/winsorize."
   ]
  },
  {
   "cell_type": "code",
   "execution_count": 22,
   "id": "03084138",
   "metadata": {},
   "outputs": [
    {
     "data": {
      "text/plain": [
       "0.012"
      ]
     },
     "execution_count": 22,
     "metadata": {},
     "output_type": "execute_result"
    }
   ],
   "source": [
    "from scipy import stats\n",
    "import numpy as np\n",
    "\n",
    "numX = X[numeric_features].copy()\n",
    "z = np.abs(stats.zscore(numX, nan_policy='omit'))\n",
    "outlier_mask = (z > 3).any(axis=1)\n",
    "outlier_rate = outlier_mask.mean()\n",
    "outlier_rate"
   ]
  },
  {
   "cell_type": "markdown",
   "id": "249d89ef",
   "metadata": {},
   "source": [
    "## 7) Preprocessing pipeline\n",
    "- **Impute** missing values (KNN for numeric; constant for categorical)\n",
    "- **Scale** numeric features\n",
    "- **One-hot encode** categoricals\n",
    "\n",
    "We’ll wrap everything in a scikit-learn **Pipeline** to avoid leakage and ensure repeatability."
   ]
  },
  {
   "cell_type": "code",
   "execution_count": 24,
   "id": "03687751",
   "metadata": {},
   "outputs": [],
   "source": [
    "from sklearn.model_selection import train_test_split\n",
    "from sklearn.impute import KNNImputer, SimpleImputer\n",
    "from sklearn.preprocessing import StandardScaler, OneHotEncoder\n",
    "from sklearn.compose import ColumnTransformer\n",
    "from sklearn.pipeline import Pipeline\n",
    "\n",
    "X_train, X_test, y_train, y_test = train_test_split(X, y, test_size=0.2, random_state=42, stratify=y)\n",
    "\n",
    "numeric_transformer = Pipeline(steps=[\n",
    "    ('imputer', KNNImputer(n_neighbors=3)),\n",
    "    ('scaler', StandardScaler())\n",
    "])\n",
    "\n",
    "categorical_transformer = Pipeline(steps=[\n",
    "    ('imputer', SimpleImputer(strategy='most_frequent')),\n",
    "    ('encoder', OneHotEncoder(handle_unknown='ignore'))\n",
    "])\n",
    "\n",
    "preprocessor = ColumnTransformer(\n",
    "    transformers=[\n",
    "        ('num', numeric_transformer, numeric_features),\n",
    "        ('cat', categorical_transformer, categorical_features)\n",
    "    ]\n",
    ")"
   ]
  },
  {
   "cell_type": "markdown",
   "id": "9183f491",
   "metadata": {},
   "source": [
    "### Optional: Outlier capping (winsorization)\n",
    "We can add a custom transformer to cap extreme values after imputation."
   ]
  },
  {
   "cell_type": "code",
   "execution_count": 26,
   "id": "7e3c51b0-7e4a-4264-92ee-04a77146e22f",
   "metadata": {},
   "outputs": [],
   "source": [
    "from sklearn.base import BaseEstimator, TransformerMixin\n",
    "\n",
    "class Winsorizer(BaseEstimator, TransformerMixin):\n",
    "    def __init__(self, quantile_low=0.01, quantile_high=0.99):\n",
    "        self.quantile_low = quantile_low\n",
    "        self.quantile_high = quantile_high\n",
    "        self.lows_ = None\n",
    "        self.highs_ = None\n",
    "\n",
    "    def fit(self, X, y=None):\n",
    "        import pandas as pd\n",
    "        X = pd.DataFrame(X)\n",
    "        self.lows_ = X.quantile(self.quantile_low)\n",
    "        self.highs_ = X.quantile(self.quantile_high)\n",
    "        return self\n",
    "\n",
    "    def transform(self, X):\n",
    "        import pandas as pd\n",
    "        X = pd.DataFrame(X).clip(lower=self.lows_, upper=self.highs_, axis=1)\n",
    "        return X.values\n"
   ]
  },
  {
   "cell_type": "markdown",
   "id": "a55fd042",
   "metadata": {},
   "source": [
    "## 8) Train a model with the preprocessing pipeline\n",
    "We’ll use Logistic Regression as a baseline to demonstrate how preprocessing and modeling fit together."
   ]
  },
  {
   "cell_type": "code",
   "execution_count": 30,
   "id": "d0342aab",
   "metadata": {},
   "outputs": [
    {
     "name": "stdout",
     "output_type": "stream",
     "text": [
      "Accuracy: 0.6833\n",
      "ROC AUC: 0.5135\n",
      "\n",
      "Classification Report:\n",
      "               precision    recall  f1-score   support\n",
      "\n",
      "           0       0.68      1.00      0.81       205\n",
      "           1       0.00      0.00      0.00        95\n",
      "\n",
      "    accuracy                           0.68       300\n",
      "   macro avg       0.34      0.50      0.41       300\n",
      "weighted avg       0.47      0.68      0.55       300\n",
      "\n"
     ]
    }
   ],
   "source": [
    "from sklearn.linear_model import LogisticRegression\n",
    "from sklearn.metrics import accuracy_score, roc_auc_score, classification_report\n",
    "\n",
    "clf = Pipeline(steps=[('preprocess', preprocessor), ('model', LogisticRegression(max_iter=200))])\n",
    "clf.fit(X_train, y_train)\n",
    "\n",
    "preds = clf.predict(X_test)\n",
    "probs = clf.predict_proba(X_test)[:,1]\n",
    "\n",
    "acc = accuracy_score(y_test, preds)\n",
    "auc = roc_auc_score(y_test, probs)\n",
    "\n",
    "print(\"Accuracy:\", round(acc, 4))\n",
    "print(\"ROC AUC:\", round(auc, 4))\n",
    "print(\"\\nClassification Report:\\n\", classification_report(y_test, preds))"
   ]
  },
  {
   "cell_type": "markdown",
   "id": "319eeb3d",
   "metadata": {},
   "source": [
    "### Compare with winsorization variant"
   ]
  },
  {
   "cell_type": "code",
   "execution_count": 32,
   "id": "dec22372",
   "metadata": {},
   "outputs": [
    {
     "name": "stdout",
     "output_type": "stream",
     "text": [
      "Winsorized Accuracy: 0.6833\n",
      "Winsorized ROC AUC: 0.5368\n"
     ]
    }
   ],
   "source": [
    "clf_w = Pipeline(steps=[('preprocess', preprocessor_w), ('model', LogisticRegression(max_iter=200))])\n",
    "clf_w.fit(X_train, y_train)\n",
    "preds_w = clf_w.predict(X_test)\n",
    "probs_w = clf_w.predict_proba(X_test)[:,1]\n",
    "acc_w = accuracy_score(y_test, preds_w)\n",
    "auc_w = roc_auc_score(y_test, probs_w)\n",
    "\n",
    "print(\"Winsorized Accuracy:\", round(acc_w, 4))\n",
    "print(\"Winsorized ROC AUC:\", round(auc_w, 4))"
   ]
  },
  {
   "cell_type": "markdown",
   "id": "69f4d0bb",
   "metadata": {},
   "source": [
    "## 9) Export the preprocessing pipeline\n",
    "Save the fitted preprocessor + model for reuse."
   ]
  },
  {
   "cell_type": "code",
   "execution_count": 34,
   "id": "8289c8cb",
   "metadata": {},
   "outputs": [
    {
     "data": {
      "text/plain": [
       "'Artifacts saved'"
      ]
     },
     "execution_count": 34,
     "metadata": {},
     "output_type": "execute_result"
    }
   ],
   "source": [
    "import joblib\n",
    "joblib.dump(clf, 'ml_prep_pipeline_baseline.joblib')\n",
    "joblib.dump(clf_w, 'ml_prep_pipeline_winsor.joblib')\n",
    "'Artifacts saved'"
   ]
  },
  {
   "cell_type": "code",
   "execution_count": null,
   "id": "ba49411f-8a8e-4c78-a50e-c8cf819174af",
   "metadata": {},
   "outputs": [],
   "source": []
  }
 ],
 "metadata": {
  "kernelspec": {
   "display_name": "Python 3 (ipykernel)",
   "language": "python",
   "name": "python3"
  },
  "language_info": {
   "codemirror_mode": {
    "name": "ipython",
    "version": 3
   },
   "file_extension": ".py",
   "mimetype": "text/x-python",
   "name": "python",
   "nbconvert_exporter": "python",
   "pygments_lexer": "ipython3",
   "version": "3.12.7"
  }
 },
 "nbformat": 4,
 "nbformat_minor": 5
}
